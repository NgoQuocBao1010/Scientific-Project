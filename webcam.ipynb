{
 "cells": [
  {
   "cell_type": "code",
   "execution_count": 1,
   "metadata": {},
   "outputs": [],
   "source": [
    "import websocket, json, random"
   ]
  },
  {
   "cell_type": "code",
   "execution_count": 2,
   "metadata": {},
   "outputs": [],
   "source": [
    "ws = websocket.WebSocket()"
   ]
  },
  {
   "cell_type": "code",
   "execution_count": 4,
   "metadata": {},
   "outputs": [],
   "source": [
    "ws.connect('ws://192.168.56.1:8000/ws/sendVideo/')"
   ]
  },
  {
   "cell_type": "code",
   "execution_count": null,
   "metadata": {},
   "outputs": [],
   "source": [
    "for i in range(100):\n",
    "    import time\n",
    "    time.sleep(1)\n",
    "    pp = json.dumps({\n",
    "        'value': random.randint(1, 10000)\n",
    "    })\n",
    "    try:\n",
    "        ws.send(pp)\n",
    "    except Exception as e:\n",
    "        print(str(e))"
   ]
  },
  {
   "cell_type": "code",
   "execution_count": 34,
   "metadata": {},
   "outputs": [],
   "source": [
    "import cv2\n",
    "import datetime\n",
    "import base64\n",
    "cap = cv2.VideoCapture(0)\n",
    "\n",
    "while True:\n",
    "    import time\n",
    "    time.sleep(1)\n",
    "    if cv2.waitKey(25) == 13:\n",
    "        break\n",
    "\n",
    "    ret, frame = cap.read()\n",
    "    cv2.imshow('frame', frame)\n",
    "    \n",
    "    _, im_arr = cv2.imencode('.jpg', frame)\n",
    "    im_bytes = im_arr.tobytes()\n",
    "    im_b64 = base64.b64encode(im_bytes)\n",
    "    im_data_str = im_b64.decode('utf-8')\n",
    "    \n",
    "    current_time = str(datetime.datetime.now())\n",
    "    current_time = current_time.replace(\" \", \"_\").replace(\".\", \"_\").replace(\"-\", \"_\").replace(\":\", \"_\")\n",
    "    \n",
    "    pp = json.dumps({\n",
    "        'imgByte': im_data_str,\n",
    "        'imgName': current_time\n",
    "    })\n",
    "    \n",
    "    try:\n",
    "        ws.send(pp)\n",
    "    except Exception as e:\n",
    "        print(str(e))\n",
    "#     print(type(im_data_str))\n",
    "    \n",
    "#     f_data_encode = str.encode(im_data_str)\n",
    "#     with open(\"testPic.jpg\",\"wb\") as f:\n",
    "#         f.write(base64.decodebytes((f_data_encode)))\n",
    "\n",
    "cap.release()\n",
    "cv2.destroyAllWindows()"
   ]
  },
  {
   "cell_type": "code",
   "execution_count": null,
   "metadata": {},
   "outputs": [],
   "source": []
  },
  {
   "cell_type": "code",
   "execution_count": null,
   "metadata": {},
   "outputs": [],
   "source": []
  }
 ],
 "metadata": {
  "kernelspec": {
   "display_name": "Python 3",
   "language": "python",
   "name": "python3"
  },
  "language_info": {
   "codemirror_mode": {
    "name": "ipython",
    "version": 3
   },
   "file_extension": ".py",
   "mimetype": "text/x-python",
   "name": "python",
   "nbconvert_exporter": "python",
   "pygments_lexer": "ipython3",
   "version": "3.8.6"
  }
 },
 "nbformat": 4,
 "nbformat_minor": 4
}
